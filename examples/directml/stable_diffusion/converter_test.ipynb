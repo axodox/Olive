{
 "cells": [
  {
   "cell_type": "code",
   "execution_count": 1,
   "metadata": {},
   "outputs": [
    {
     "name": "stderr",
     "output_type": "stream",
     "text": [
      "c:\\Users\\Axodox\\miniconda3\\envs\\olive-3x\\lib\\site-packages\\tqdm\\auto.py:21: TqdmWarning: IProgress not found. Please update jupyter and ipywidgets. See https://ipywidgets.readthedocs.io/en/stable/user_install.html\n",
      "  from .autonotebook import tqdm as notebook_tqdm\n"
     ]
    }
   ],
   "source": [
    "#Imports\n",
    "\n",
    "import argparse\n",
    "import json\n",
    "import shutil\n",
    "import warnings\n",
    "import os\n",
    "from pathlib import Path\n",
    "\n",
    "import onnxruntime as ort\n",
    "import torch\n",
    "from diffusers import OnnxRuntimeModel, OnnxStableDiffusionPipeline, StableDiffusionPipeline\n",
    "from packaging import version\n",
    "from user_script import get_base_model_name\n",
    "\n",
    "from olive.workflows import run as olive_run\n",
    "from google.protobuf import __version__ as protobuf_version\n",
    "\n",
    "ort.set_default_logger_severity(4)\n",
    "script_dir = Path(os.path.dirname(os.path.abspath('__file__')))"
   ]
  },
  {
   "cell_type": "code",
   "execution_count": 5,
   "metadata": {},
   "outputs": [],
   "source": [
    "# VAE-FT-MSE conversion\n",
    "\n",
    "olive_config = None\n",
    "submodel_name = \"vae_decoder\"\n",
    "olice_config_path = script_dir / f\"config_{submodel_name}.json\"\n",
    "olive_config_file = open(olice_config_path, \"r\")\n",
    "olive_config = json.load(olive_config_file)\n",
    "olive_config[\"input_model\"][\"config\"][\"model_path\"] = \"stabilityai/sd-vae-ft-mse\"\n",
    "olive_config[\"input_model\"][\"config\"][\"model_script\"] = \"local_loader.py\""
   ]
  },
  {
   "cell_type": "code",
   "execution_count": 19,
   "metadata": {},
   "outputs": [],
   "source": [
    "# Controlnet conversion\n",
    "\n",
    "olive_config = None\n",
    "submodel_name = \"controlnet\"\n",
    "olice_config_path = script_dir / f\"config_{submodel_name}.json\"\n",
    "olive_config_file = open(olice_config_path, \"r\")\n",
    "olive_config = json.load(olive_config_file)\n",
    "olive_config[\"input_model\"][\"config\"][\"model_path\"] = \"lllyasviel/control_v11p_sd15_inpaint\""
   ]
  },
  {
   "cell_type": "code",
   "execution_count": 4,
   "metadata": {},
   "outputs": [],
   "source": [
    "# Controlnet UNET conversion\n",
    "\n",
    "olive_config = None\n",
    "submodel_name = \"unet_controlnet\"\n",
    "olice_config_path = script_dir / f\"config_{submodel_name}.json\"\n",
    "olive_config_file = open(olice_config_path, \"r\")\n",
    "olive_config = json.load(olive_config_file)"
   ]
  },
  {
   "cell_type": "code",
   "execution_count": 20,
   "metadata": {},
   "outputs": [
    {
     "name": "stdout",
     "output_type": "stream",
     "text": [
      "[2023-11-01 15:49:46,449] [INFO] [engine.py:181:setup_accelerators] Running workflow on accelerator specs: gpu-dml\n",
      "[2023-11-01 15:49:46,468] [INFO] [engine.py:926:_run_pass] Running pass convert:OnnxConversion\n"
     ]
    },
    {
     "name": "stderr",
     "output_type": "stream",
     "text": [
      "Downloading (…)lve/main/config.json: 100%|██████████| 998/998 [00:00<00:00, 484kB/s]\n",
      "Downloading (…)ch_model.safetensors: 100%|██████████| 1.45G/1.45G [00:48<00:00, 30.0MB/s]\n"
     ]
    },
    {
     "name": "stdout",
     "output_type": "stream",
     "text": [
      "[2023-11-01 15:50:55,924] [INFO] [engine.py:926:_run_pass] Running pass optimize:OrtTransformersOptimization\n"
     ]
    },
    {
     "name": "stderr",
     "output_type": "stream",
     "text": [
      "There is no gpu for onnxruntime to do optimization.\n"
     ]
    },
    {
     "name": "stdout",
     "output_type": "stream",
     "text": [
      "[2023-11-01 15:54:01,679] [INFO] [footprint.py:183:create_pareto_frontier] pareto frontier points: 17_OrtTransformersOptimization-16-2faf45a2929d71081706793028da842f \n",
      "{\n",
      "  \"latency-avg\": 33.03331\n",
      "}\n",
      "[2023-11-01 15:54:01,680] [INFO] [engine.py:608:create_pareto_frontier_footprints] Output all 1 models\n",
      "[2023-11-01 15:54:01,682] [INFO] [engine.py:359:run] Run history for gpu-dml:\n",
      "[2023-11-01 15:54:01,683] [INFO] [engine.py:634:dump_run_history] Please install tabulate for better run history output\n",
      "[2023-11-01 15:54:01,684] [INFO] [engine.py:374:run] No packaging config provided, skip packaging artifacts\n"
     ]
    },
    {
     "data": {
      "text/plain": [
       "{AcceleratorSpec(accelerator_type=<Device.GPU: 'gpu'>, execution_provider='DmlExecutionProvider', vender=None, version=None, memory=None, num_cores=None): <olive.engine.footprint.Footprint at 0x2110e221fd0>}"
      ]
     },
     "execution_count": 20,
     "metadata": {},
     "output_type": "execute_result"
    }
   ],
   "source": [
    "# Run Olive\n",
    "olive_run(olive_config)"
   ]
  }
 ],
 "metadata": {
  "kernelspec": {
   "display_name": "base",
   "language": "python",
   "name": "python3"
  },
  "language_info": {
   "codemirror_mode": {
    "name": "ipython",
    "version": 3
   },
   "file_extension": ".py",
   "mimetype": "text/x-python",
   "name": "python",
   "nbconvert_exporter": "python",
   "pygments_lexer": "ipython3",
   "version": "3.8.18"
  },
  "orig_nbformat": 4
 },
 "nbformat": 4,
 "nbformat_minor": 2
}
