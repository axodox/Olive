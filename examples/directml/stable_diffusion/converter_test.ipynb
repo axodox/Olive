{
 "cells": [
  {
   "cell_type": "code",
   "execution_count": null,
   "metadata": {},
   "outputs": [],
   "source": [
    "#Imports\n",
    "\n",
    "import argparse\n",
    "import json\n",
    "import shutil\n",
    "import warnings\n",
    "import os\n",
    "from pathlib import Path\n",
    "\n",
    "import onnxruntime as ort\n",
    "import PySimpleGUI as sg\n",
    "import torch\n",
    "from diffusers import OnnxRuntimeModel, OnnxStableDiffusionPipeline, StableDiffusionPipeline\n",
    "from packaging import version\n",
    "from user_script import get_base_model_name\n",
    "\n",
    "from olive.workflows import run as olive_run\n",
    "from google.protobuf import __version__ as protobuf_version\n",
    "\n",
    "ort.set_default_logger_severity(4)\n",
    "script_dir = Path(os.path.dirname(os.path.abspath('__file__')))"
   ]
  },
  {
   "cell_type": "code",
   "execution_count": null,
   "metadata": {},
   "outputs": [],
   "source": [
    "# VAE-FT-MSE conversion\n",
    "\n",
    "olive_config = None\n",
    "submodel_name = \"vae_decoder\"\n",
    "olice_config_path = script_dir / f\"config_{submodel_name}.json\"\n",
    "olive_config_file = open(olice_config_path, \"r\")\n",
    "olive_config = json.load(olive_config_file)\n",
    "olive_config[\"input_model\"][\"config\"][\"model_path\"] = \"stabilityai/sd-vae-ft-mse\"\n",
    "olive_config[\"input_model\"][\"config\"][\"model_script\"] = \"local_loader.py\""
   ]
  },
  {
   "cell_type": "code",
   "execution_count": null,
   "metadata": {},
   "outputs": [],
   "source": [
    "# Controlnet conversion\n",
    "\n",
    "olive_config = None\n",
    "submodel_name = \"controlnet\"\n",
    "olice_config_path = script_dir / f\"config_{submodel_name}.json\"\n",
    "olive_config_file = open(olice_config_path, \"r\")\n",
    "olive_config = json.load(olive_config_file)"
   ]
  },
  {
   "cell_type": "code",
   "execution_count": null,
   "metadata": {},
   "outputs": [],
   "source": [
    "# Run Olive\n",
    "olive_run(olive_config)"
   ]
  }
 ],
 "metadata": {
  "kernelspec": {
   "display_name": "base",
   "language": "python",
   "name": "python3"
  },
  "language_info": {
   "codemirror_mode": {
    "name": "ipython",
    "version": 3
   },
   "file_extension": ".py",
   "mimetype": "text/x-python",
   "name": "python",
   "nbconvert_exporter": "python",
   "pygments_lexer": "ipython3",
   "version": "3.8.16"
  },
  "orig_nbformat": 4
 },
 "nbformat": 4,
 "nbformat_minor": 2
}
